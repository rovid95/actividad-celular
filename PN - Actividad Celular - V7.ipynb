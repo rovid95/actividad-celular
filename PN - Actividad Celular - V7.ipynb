{
 "cells": [
  {
   "cell_type": "code",
   "execution_count": 1,
   "metadata": {},
   "outputs": [],
   "source": [
    "import pyodbc\n",
    "import pandas as pd\n",
    "import numpy as np\n",
    "import matplotlib.pyplot as plt\n",
    "from functools import reduce\n",
    "import win32com.client\n",
    "import os\n",
    "from os import chdir, getcwd\n",
    "import time\n",
    "from factor_analyzer import FactorAnalyzer\n",
    "\n",
    "import sweetviz as sv\n",
    "\n",
    "import dask.dataframe as dd\n",
    "import dask.array as da\n",
    "\n",
    "from sklearn.neighbors import LocalOutlierFactor\n",
    "from numpy import quantile, where, random\n",
    "from sklearn.ensemble import IsolationForest\n",
    "\n",
    "import pickle\n",
    "\n",
    "import warnings\n",
    "warnings.filterwarnings(action='once')\n",
    "\n",
    "\n",
    "from tqdm import tqdm #libreria para ver el tiempo que demora el proceso\n",
    "pd.options.display.max_columns = 50"
   ]
  },
  {
   "cell_type": "markdown",
   "metadata": {},
   "source": [
    "# Definición de fucniones y fuente de datos"
   ]
  },
  {
   "cell_type": "markdown",
   "metadata": {},
   "source": [
    "## Fuente de datos\n",
    "Carga de la fuente de datos de 10M de líneas de 1 - 3 meses, al cual se le aplico el promedio."
   ]
  },
  {
   "cell_type": "code",
   "execution_count": 2,
   "id": "81497522-3df5-4860-9609-b19235e111d3",
   "metadata": {},
   "outputs": [],
   "source": [
    "ddf = dd.read_csv('./data/in_actividad_celular_media_arit_dic_feb2022.csv',sep='|')"
   ]
  },
  {
   "cell_type": "markdown",
   "metadata": {},
   "source": [
    "## Función de Deteccion de Outliers"
   ]
  },
  {
   "cell_type": "code",
   "execution_count": 5,
   "metadata": {},
   "outputs": [],
   "source": [
    "def deteccion_outlier_producto(ddf, clf , indicadores_positivos, indicadores_negativos=[]):\n",
    "    df_2 = ddf[['SUBSCRIBER_ID','ID_SUBPRODUCTO_1_3']]\n",
    "\n",
    "    for x in indicadores_positivos:\n",
    "        df_2[x] = (ddf[x] - ddf[x].min(axis=0)).divide(ddf[x].max(axis=0) - ddf[x].min(axis=0))\n",
    "\n",
    "    for y in indicadores_negativos:\n",
    "        df_2[y] = (ddf[y].max(axis=0)-ddf[y]) / (ddf[y].max(axis=0) - ddf[y].min(axis=0))\n",
    "\n",
    "    to_columns = df_2.columns[1:]\n",
    "\n",
    "    pred_ppa = clf.fit_predict(df_2.loc[df_2['ID_SUBPRODUCTO_1_3'] == 0,to_columns])\n",
    "\n",
    "    # Se cambia a pandas dataframe PPA\n",
    "    df_final_ppa = df_2[df_2['ID_SUBPRODUCTO_1_3'] == 0].compute()\n",
    "\n",
    "    df_final_ppa['anomaly'] = pred_ppa\n",
    "\n",
    "    outliers_ppa=df_final_ppa.loc[df_final_ppa['anomaly']==-1]\n",
    "    #outlier_ppa_index=list(outliers_ppa.index)\n",
    "\n",
    "    sin_outliers_ppa=df_final_ppa.loc[df_final_ppa['anomaly']==1]\n",
    "    #sin_outliers_ppa_index=list(sin_outliers_ppa.index)\n",
    "\n",
    "    sin_outliers_ppa.drop(columns='anomaly', inplace=True)\n",
    "    outliers_ppa.drop(columns='anomaly', inplace=True)\n",
    "\n",
    "    # Se cambia a pandas dataframe POS\n",
    "    pred_pos = clf.fit_predict(df_2.loc[df_2['ID_SUBPRODUCTO_1_3'] == 1,to_columns])\n",
    "\n",
    "    df_final_pos = df_2[df_2['ID_SUBPRODUCTO_1_3'] == 1].compute()\n",
    "\n",
    "    df_final_pos['anomaly'] = pred_pos\n",
    "\n",
    "    outliers_pos=df_final_pos.loc[df_final_pos['anomaly']==-1]\n",
    "    #outlier_pos_index=list(outliers_pos.index)\n",
    "\n",
    "    sin_outliers_pos=df_final_pos.loc[df_final_pos['anomaly']==1]\n",
    "    #sin_outliers_pos_index=list(sin_outliers_pos.index)\n",
    "\n",
    "    sin_outliers_pos.drop(columns='anomaly', inplace=True)\n",
    "    outliers_pos.drop(columns='anomaly', inplace=True)\n",
    "\n",
    "    return outliers_ppa, sin_outliers_ppa,outliers_pos, sin_outliers_pos"
   ]
  },
  {
   "cell_type": "markdown",
   "metadata": {},
   "source": [
    "## Analisis Factorial"
   ]
  },
  {
   "cell_type": "markdown",
   "metadata": {},
   "source": [
    "#### Cargas Factoriales"
   ]
  },
  {
   "cell_type": "code",
   "execution_count": 6,
   "metadata": {},
   "outputs": [],
   "source": [
    "def analisis_factorial(sin_outliers, outliers, columnas_eliminar):\n",
    "    fa = FactorAnalyzer()\n",
    "    fa.analyze(sin_outliers.drop(columns=columnas_eliminar)\n",
    "            ,sin_outliers.drop(columns=columnas_eliminar).shape[1], rotation=None)\n",
    "    # Eigenvalues\n",
    "    ev, v = fa.get_eigenvalues()\n",
    "\n",
    "    fa = FactorAnalyzer()\n",
    "    fa.analyze(sin_outliers.drop(columns=columnas_eliminar)\n",
    "            , len(ev[ev['Original_Eigenvalues']>=1]), rotation=\"varimax\")\n",
    "    # Factores de carga\n",
    "    loadings_carga = fa.loadings\n",
    "    # Cuadrados de las cargas factoriales\n",
    "    cuadrado_loadings_carga = loadings_carga**2\n",
    "    print(\"------Cuadrados de las cargas factoriales------\")\n",
    "    print(cuadrado_loadings_carga)\n",
    "    # Varianza total: Sumatoria de las varianzas de cada factor\n",
    "    varianza_por_factor = (cuadrado_loadings_carga).sum(axis=0).tolist()\n",
    "    print(\"Varianza por factor:\", varianza_por_factor)\n",
    "    varianza_total = (cuadrado_loadings_carga).sum(axis=0).sum()\n",
    "    print(\"Varianza total:\", varianza_total)\n",
    "    # Varianza Explicada sobre Varianza Total por factor\n",
    "    VE_VT = varianza_por_factor/varianza_total\n",
    "    print(\"Varianza por factor:\",VE_VT)\n",
    "    # Cargas factoriales normalizadas (contribución a la varianza de cada variable)\n",
    "    cargas_factoriales_normalizadas = (cuadrado_loadings_carga)/varianza_por_factor\n",
    "    print(\"------Cargas factoriales normalizadas------\")\n",
    "    print(cargas_factoriales_normalizadas)\n",
    "    # Identificación de pertenencia de cada variable a factor\n",
    "    max_loadings_carga_indexobj = (cuadrado_loadings_carga/varianza_por_factor).idxmax(axis=1)\n",
    "    print(\"------Identificación de pertenencia de cada variable a factor------\")\n",
    "    print(max_loadings_carga_indexobj)\n",
    "    print(\"Longitud de arreglo\",cuadrado_loadings_carga.shape[1:2][0])\n",
    "    # Pesos de cada variable\n",
    "    lista = [np.nan]*cargas_factoriales_normalizadas.shape[0]\n",
    "\n",
    "    for x,i,j in tqdm( zip( cargas_factoriales_normalizadas.index,max_loadings_carga_indexobj.tolist(),range(0,cargas_factoriales_normalizadas.shape[0]) ) ):\n",
    "        lista[j]=cargas_factoriales_normalizadas.loc[x,i]\n",
    "    print(\"------Pesos de cada variable------\")\n",
    "    print(lista)\n",
    "    pesos = lista[:cargas_factoriales_normalizadas.shape[0]]\n",
    "    \n",
    "    VE_VT_map = pd.DataFrame(data=VE_VT.reshape(1,cuadrado_loadings_carga.shape[1:2][0]), index=[0], columns=cuadrado_loadings_carga.columns)\n",
    "    lista_ve_vt = [np.nan]*cargas_factoriales_normalizadas.shape[0]\n",
    "\n",
    "    for i,j in zip(max_loadings_carga_indexobj.tolist(),range(0,cargas_factoriales_normalizadas.shape[0])):\n",
    "        lista_ve_vt[j]=VE_VT_map[i][0]\n",
    "\n",
    "    #print(lista_ve_vt)\n",
    "    factor_para_pesos = lista_ve_vt[:cargas_factoriales_normalizadas.shape[0]]\n",
    "\n",
    "    pesos_finales = np.array(pesos)*np.array(factor_para_pesos)\n",
    "\n",
    "    # Pesos normalizados\n",
    "    pesos_normalizados = pesos_finales/sum(pesos_finales)\n",
    "\n",
    "    # Multiplicación de cada observación por variable por el peso ponderado correspondiente\n",
    "\n",
    "    ## concatenar la base de outliers y sin outliers para aplicarle los pesos.\n",
    "    df_concatenado = sin_outliers.append(outliers)\n",
    "\n",
    "    df_concatenado_2 = df_concatenado[columnas_eliminar]\n",
    "\n",
    "    for x in indicadores_positivos:\n",
    "        df_concatenado_2[x] = (df_concatenado[x] - df_concatenado[x].min(axis=0)).divide(df_concatenado[x].max(axis=0) - df_concatenado[x].min(axis=0))\n",
    "\n",
    "    for y in indicadores_negativos:\n",
    "        df_concatenado_2[y] = (df_concatenado[y].max(axis=0)-df_concatenado[y]) / (df_concatenado[y].max(axis=0) - df_concatenado[y].min(axis=0))\n",
    "    \n",
    "    matriz_ponderada = df_concatenado_2.drop(columns=columnas_eliminar)*pesos_normalizados\n",
    "\n",
    "    return df_concatenado_2,matriz_ponderada"
   ]
  },
  {
   "cell_type": "markdown",
   "metadata": {},
   "source": [
    "## Indicador"
   ]
  },
  {
   "cell_type": "code",
   "execution_count": 7,
   "metadata": {},
   "outputs": [],
   "source": [
    "def generar_indicador(df_concatenado, matriz_ponderada, ddf, subproducto):\n",
    "    indicador_grupo2 = pd.concat([df_concatenado,matriz_ponderada.sum(axis=1)],axis=1)\n",
    "\n",
    "    indicador_grupo2.rename(columns={0:'Indicador'},inplace=True)\n",
    "\n",
    "    indicador_grupo2.sort_values(by=['Indicador'], ascending=False).reset_index().drop(columns='index')\n",
    "\n",
    "    score_final = pd.concat([ indicador_grupo2, pd.cut(indicador_grupo2.rename(columns={'Indicador':'Intervalo Indicador'})['Intervalo Indicador'], bins=1000),\n",
    "                         pd.cut( indicador_grupo2.rename(columns={'Indicador':'Score'})['Score'], bins=1000, labels=np.arange(1000) ) ],axis=1)\n",
    "\n",
    "    df2_pd = ddf[ ddf['ID_SUBPRODUCTO_1_3'] == subproducto ].compute()\n",
    "    df2_pd = df2_pd.round(2)\n",
    "\n",
    "    score_final_datos = score_final.sort_values(by=['Indicador'], ascending=False).reset_index().drop(columns='index')[['SUBSCRIBER_ID','Indicador','Intervalo Indicador','Score']].merge(df2_pd,on=['SUBSCRIBER_ID'])\n",
    "\n",
    "    score_final_datos['Score'] = score_final_datos['Score'].astype(str)\n",
    "    score_final_datos['Intervalo Indicador'] = score_final_datos['Intervalo Indicador'].astype(str)\n",
    "\n",
    "    return score_final_datos\n"
   ]
  },
  {
   "cell_type": "markdown",
   "metadata": {},
   "source": [
    "# Deteccion de outliers"
   ]
  },
  {
   "cell_type": "code",
   "execution_count": 8,
   "id": "1bc7624b-3df2-448c-b525-609899877a54",
   "metadata": {},
   "outputs": [],
   "source": [
    "indicadores_positivos = [\n",
    "       'DIAS_USO_VOZ_1_3', 'DIAS_USO_VOZ_DATOS_1_3', 'TRAFICO_VOZ_1_3', \n",
    "       'TRAFICO_DATOS_1_3', 'TRAFICO_SMS_1_3', \n",
    "       'CANT_CONTACTOS_LLAMADOS_1_3', 'CANT_LLAMADAS_ENTRANTES_1_3', 'CANT_LLAMADAS_SALIENTES_1_3',\n",
    "       'ANTIGUEDAD_1_3', 'PROMEDIO_LLAMADAS_ENTRANTES_1_3', 'PROMEDIO_LLAMADAS_SALIENTES_1_3'\n",
    "                        ]\n",
    "\n",
    "indicadores_negativos = [\n",
    "                        'DIAS_RECENCIA_1_3'\n",
    "                        ]"
   ]
  },
  {
   "cell_type": "code",
   "execution_count": 9,
   "metadata": {},
   "outputs": [],
   "source": [
    "clf=IsolationForest(n_estimators=100, max_samples='auto', contamination='auto', \\\n",
    "                        max_features=1.0, bootstrap=False, n_jobs=-1, random_state=42, verbose=0)"
   ]
  },
  {
   "cell_type": "code",
   "execution_count": 10,
   "metadata": {},
   "outputs": [
    {
     "name": "stderr",
     "output_type": "stream",
     "text": [
      "C:\\Users\\rsolorza\\AppData\\Local\\Temp/ipykernel_23476/261415206.py:25: SettingWithCopyWarning: \n",
      "A value is trying to be set on a copy of a slice from a DataFrame\n",
      "\n",
      "See the caveats in the documentation: https://pandas.pydata.org/pandas-docs/stable/user_guide/indexing.html#returning-a-view-versus-a-copy\n",
      "  sin_outliers_ppa.drop(columns='anomaly', inplace=True)\n",
      "C:\\Users\\rsolorza\\AppData\\Local\\Temp/ipykernel_23476/261415206.py:26: SettingWithCopyWarning: \n",
      "A value is trying to be set on a copy of a slice from a DataFrame\n",
      "\n",
      "See the caveats in the documentation: https://pandas.pydata.org/pandas-docs/stable/user_guide/indexing.html#returning-a-view-versus-a-copy\n",
      "  outliers_ppa.drop(columns='anomaly', inplace=True)\n",
      "C:\\Users\\rsolorza\\AppData\\Local\\Temp/ipykernel_23476/261415206.py:41: SettingWithCopyWarning: \n",
      "A value is trying to be set on a copy of a slice from a DataFrame\n",
      "\n",
      "See the caveats in the documentation: https://pandas.pydata.org/pandas-docs/stable/user_guide/indexing.html#returning-a-view-versus-a-copy\n",
      "  sin_outliers_pos.drop(columns='anomaly', inplace=True)\n",
      "C:\\Users\\rsolorza\\AppData\\Local\\Temp/ipykernel_23476/261415206.py:42: SettingWithCopyWarning: \n",
      "A value is trying to be set on a copy of a slice from a DataFrame\n",
      "\n",
      "See the caveats in the documentation: https://pandas.pydata.org/pandas-docs/stable/user_guide/indexing.html#returning-a-view-versus-a-copy\n",
      "  outliers_pos.drop(columns='anomaly', inplace=True)\n"
     ]
    }
   ],
   "source": [
    "outliers_ppa, sin_outliers_ppa,\\\n",
    "    outliers_pos, sin_outliers_pos = deteccion_outlier_producto(ddf, clf , indicadores_positivos, indicadores_negativos)"
   ]
  },
  {
   "cell_type": "markdown",
   "metadata": {},
   "source": [
    "# Actividad Celular - Multivariable"
   ]
  },
  {
   "cell_type": "code",
   "execution_count": null,
   "metadata": {},
   "outputs": [],
   "source": [
    "## Se definen variables que se utilizaran en las ejecuciones de PPA y POS\n",
    "columnas_eliminar = ['SUBSCRIBER_ID','ID_SUBPRODUCTO_1_3','DIAS_RECENCIA_1_3']"
   ]
  },
  {
   "cell_type": "markdown",
   "metadata": {},
   "source": [
    "## Ejecución de PPA"
   ]
  },
  {
   "cell_type": "code",
   "execution_count": 82,
   "metadata": {},
   "outputs": [
    {
     "name": "stderr",
     "output_type": "stream",
     "text": [
      "C:\\ProgramData\\Anaconda3\\lib\\site-packages\\pandas\\core\\frame.py:8916: DeprecationWarning: scipy.isreal is deprecated and will be removed in SciPy 2.0.0, use numpy.isreal instead\n",
      "  return lib.map_infer(x.astype(object)._values, func, ignore_na=ignore_na)\n",
      "C:\\ProgramData\\Anaconda3\\lib\\site-packages\\factor_analyzer\\factor_analyzer.py:483: DeprecationWarning: scipy.diag is deprecated and will be removed in SciPy 2.0.0, use numpy.diag instead\n",
      "  smc = 1 - 1 / sp.diag(corr_inv)\n",
      "C:\\ProgramData\\Anaconda3\\lib\\site-packages\\factor_analyzer\\factor_analyzer.py:316: DeprecationWarning: scipy.dot is deprecated and will be removed in SciPy 2.0.0, use numpy.dot instead\n",
      "  model = sp.dot(loadings, loadings.T)\n",
      "C:\\ProgramData\\Anaconda3\\lib\\site-packages\\factor_analyzer\\factor_analyzer.py:324: DeprecationWarning: scipy.sum is deprecated and will be removed in SciPy 2.0.0, use numpy.sum instead\n",
      "  error = sp.sum(residual)\n",
      "C:\\ProgramData\\Anaconda3\\lib\\site-packages\\factor_analyzer\\factor_analyzer.py:389: DeprecationWarning: scipy.fill_diagonal is deprecated and will be removed in SciPy 2.0.0, use numpy.fill_diagonal instead\n",
      "  sp.fill_diagonal(corr_mtx, 1 - solution)\n",
      "C:\\ProgramData\\Anaconda3\\lib\\site-packages\\factor_analyzer\\factor_analyzer.py:400: DeprecationWarning: scipy.sqrt is deprecated and will be removed in SciPy 2.0.0, use numpy.lib.scimath.sqrt instead\n",
      "  loadings = sp.dot(vectors, sp.diag(sp.sqrt(np.maximum(values, 0))))\n",
      "C:\\ProgramData\\Anaconda3\\lib\\site-packages\\factor_analyzer\\factor_analyzer.py:400: DeprecationWarning: scipy.diag is deprecated and will be removed in SciPy 2.0.0, use numpy.diag instead\n",
      "  loadings = sp.dot(vectors, sp.diag(sp.sqrt(np.maximum(values, 0))))\n",
      "C:\\ProgramData\\Anaconda3\\lib\\site-packages\\pandas\\core\\frame.py:8916: DeprecationWarning: scipy.isreal is deprecated and will be removed in SciPy 2.0.0, use numpy.isreal instead\n",
      "  return lib.map_infer(x.astype(object)._values, func, ignore_na=ignore_na)\n",
      "C:\\ProgramData\\Anaconda3\\lib\\site-packages\\factor_analyzer\\factor_analyzer.py:483: DeprecationWarning: scipy.diag is deprecated and will be removed in SciPy 2.0.0, use numpy.diag instead\n",
      "  smc = 1 - 1 / sp.diag(corr_inv)\n",
      "C:\\ProgramData\\Anaconda3\\lib\\site-packages\\factor_analyzer\\factor_analyzer.py:316: DeprecationWarning: scipy.dot is deprecated and will be removed in SciPy 2.0.0, use numpy.dot instead\n",
      "  model = sp.dot(loadings, loadings.T)\n",
      "C:\\ProgramData\\Anaconda3\\lib\\site-packages\\factor_analyzer\\factor_analyzer.py:324: DeprecationWarning: scipy.sum is deprecated and will be removed in SciPy 2.0.0, use numpy.sum instead\n",
      "  error = sp.sum(residual)\n",
      "C:\\ProgramData\\Anaconda3\\lib\\site-packages\\factor_analyzer\\factor_analyzer.py:389: DeprecationWarning: scipy.fill_diagonal is deprecated and will be removed in SciPy 2.0.0, use numpy.fill_diagonal instead\n",
      "  sp.fill_diagonal(corr_mtx, 1 - solution)\n",
      "C:\\ProgramData\\Anaconda3\\lib\\site-packages\\factor_analyzer\\factor_analyzer.py:400: DeprecationWarning: scipy.sqrt is deprecated and will be removed in SciPy 2.0.0, use numpy.lib.scimath.sqrt instead\n",
      "  loadings = sp.dot(vectors, sp.diag(sp.sqrt(np.maximum(values, 0))))\n",
      "C:\\ProgramData\\Anaconda3\\lib\\site-packages\\factor_analyzer\\factor_analyzer.py:400: DeprecationWarning: scipy.diag is deprecated and will be removed in SciPy 2.0.0, use numpy.diag instead\n",
      "  loadings = sp.dot(vectors, sp.diag(sp.sqrt(np.maximum(values, 0))))\n"
     ]
    },
    {
     "name": "stdout",
     "output_type": "stream",
     "text": [
      "------Cuadrados de las cargas factoriales------\n",
      "                                  Factor1   Factor2   Factor3\n",
      "DIAS_USO_VOZ_1_3                 0.650770  0.008256  0.220592\n",
      "DIAS_USO_VOZ_DATOS_1_3           0.185248  0.005755  0.509344\n",
      "TRAFICO_VOZ_1_3                  0.436640  0.000048  0.085895\n",
      "TRAFICO_DATOS_1_3                0.125862  0.003443  0.299492\n",
      "TRAFICO_SMS_1_3                  0.000954  0.000007  0.002061\n",
      "CANT_CONTACTOS_LLAMADOS_1_3      0.375558  0.076361  0.087210\n",
      "CANT_LLAMADAS_ENTRANTES_1_3      0.079276  0.387818  0.017362\n",
      "CANT_LLAMADAS_SALIENTES_1_3      0.865329  0.000477  0.086536\n",
      "ANTIGUEDAD_1_3                   0.004877  0.073486  0.012725\n",
      "PROMEDIO_LLAMADAS_ENTRANTES_1_3  0.000039  0.122737  0.000758\n",
      "PROMEDIO_LLAMADAS_SALIENTES_1_3  0.009759  0.220803  0.001817\n",
      "Varianza por factor: [2.734311774324861, 0.8991916021802504, 1.3237924296205708]\n",
      "Varianza total: 4.957295806125682\n",
      "Varianza por factor: [0.55157325 0.18138752 0.26703922]\n",
      "------Cargas factoriales normalizadas------\n",
      "                                  Factor1   Factor2   Factor3\n",
      "DIAS_USO_VOZ_1_3                 0.238001  0.009182  0.166636\n",
      "DIAS_USO_VOZ_DATOS_1_3           0.067749  0.006400  0.384761\n",
      "TRAFICO_VOZ_1_3                  0.159689  0.000053  0.064886\n",
      "TRAFICO_DATOS_1_3                0.046031  0.003829  0.226238\n",
      "TRAFICO_SMS_1_3                  0.000349  0.000008  0.001557\n",
      "CANT_CONTACTOS_LLAMADOS_1_3      0.137350  0.084922  0.065879\n",
      "CANT_LLAMADAS_ENTRANTES_1_3      0.028993  0.431296  0.013115\n",
      "CANT_LLAMADAS_SALIENTES_1_3      0.316471  0.000531  0.065370\n",
      "ANTIGUEDAD_1_3                   0.001784  0.081725  0.009612\n",
      "PROMEDIO_LLAMADAS_ENTRANTES_1_3  0.000014  0.136497  0.000572\n",
      "PROMEDIO_LLAMADAS_SALIENTES_1_3  0.003569  0.245557  0.001373\n",
      "------Identificación de pertenencia de cada variable a factor------\n",
      "DIAS_USO_VOZ_1_3                   Factor1\n",
      "DIAS_USO_VOZ_DATOS_1_3             Factor3\n",
      "TRAFICO_VOZ_1_3                    Factor1\n",
      "TRAFICO_DATOS_1_3                  Factor3\n",
      "TRAFICO_SMS_1_3                    Factor3\n",
      "CANT_CONTACTOS_LLAMADOS_1_3        Factor1\n",
      "CANT_LLAMADAS_ENTRANTES_1_3        Factor2\n",
      "CANT_LLAMADAS_SALIENTES_1_3        Factor1\n",
      "ANTIGUEDAD_1_3                     Factor2\n",
      "PROMEDIO_LLAMADAS_ENTRANTES_1_3    Factor2\n",
      "PROMEDIO_LLAMADAS_SALIENTES_1_3    Factor2\n",
      "dtype: object\n",
      "Longitud de arreglo 3\n"
     ]
    },
    {
     "name": "stderr",
     "output_type": "stream",
     "text": [
      "11it [00:00, ?it/s]"
     ]
    },
    {
     "name": "stdout",
     "output_type": "stream",
     "text": [
      "------Pesos de cada variable------\n",
      "[0.23800125842074593, 0.3847609371083352, 0.15968928122224743, 0.22623791634055018, 0.0015572204667779993, 0.1373502357400354, 0.4312960395015167, 0.31647064554780857, 0.08172491075491793, 0.13649700195035927, 0.24555727043067008]\n"
     ]
    },
    {
     "name": "stderr",
     "output_type": "stream",
     "text": [
      "\n",
      "C:\\Users\\rsolorza\\AppData\\Local\\Temp/ipykernel_14536/3324408537.py:60: FutureWarning: The frame.append method is deprecated and will be removed from pandas in a future version. Use pandas.concat instead.\n",
      "  df_concatenado = sin_outliers.append(outliers)\n",
      "C:\\Users\\rsolorza\\AppData\\Local\\Temp/ipykernel_14536/3324408537.py:65: SettingWithCopyWarning: \n",
      "A value is trying to be set on a copy of a slice from a DataFrame.\n",
      "Try using .loc[row_indexer,col_indexer] = value instead\n",
      "\n",
      "See the caveats in the documentation: https://pandas.pydata.org/pandas-docs/stable/user_guide/indexing.html#returning-a-view-versus-a-copy\n",
      "  df_concatenado_2[x] = (df_concatenado[x] - df_concatenado[x].min(axis=0)).divide(df_concatenado[x].max(axis=0) - df_concatenado[x].min(axis=0))\n",
      "C:\\Users\\rsolorza\\AppData\\Local\\Temp/ipykernel_14536/3324408537.py:65: SettingWithCopyWarning: \n",
      "A value is trying to be set on a copy of a slice from a DataFrame.\n",
      "Try using .loc[row_indexer,col_indexer] = value instead\n",
      "\n",
      "See the caveats in the documentation: https://pandas.pydata.org/pandas-docs/stable/user_guide/indexing.html#returning-a-view-versus-a-copy\n",
      "  df_concatenado_2[x] = (df_concatenado[x] - df_concatenado[x].min(axis=0)).divide(df_concatenado[x].max(axis=0) - df_concatenado[x].min(axis=0))\n",
      "C:\\Users\\rsolorza\\AppData\\Local\\Temp/ipykernel_14536/3324408537.py:65: SettingWithCopyWarning: \n",
      "A value is trying to be set on a copy of a slice from a DataFrame.\n",
      "Try using .loc[row_indexer,col_indexer] = value instead\n",
      "\n",
      "See the caveats in the documentation: https://pandas.pydata.org/pandas-docs/stable/user_guide/indexing.html#returning-a-view-versus-a-copy\n",
      "  df_concatenado_2[x] = (df_concatenado[x] - df_concatenado[x].min(axis=0)).divide(df_concatenado[x].max(axis=0) - df_concatenado[x].min(axis=0))\n",
      "C:\\Users\\rsolorza\\AppData\\Local\\Temp/ipykernel_14536/3324408537.py:65: SettingWithCopyWarning: \n",
      "A value is trying to be set on a copy of a slice from a DataFrame.\n",
      "Try using .loc[row_indexer,col_indexer] = value instead\n",
      "\n",
      "See the caveats in the documentation: https://pandas.pydata.org/pandas-docs/stable/user_guide/indexing.html#returning-a-view-versus-a-copy\n",
      "  df_concatenado_2[x] = (df_concatenado[x] - df_concatenado[x].min(axis=0)).divide(df_concatenado[x].max(axis=0) - df_concatenado[x].min(axis=0))\n",
      "C:\\Users\\rsolorza\\AppData\\Local\\Temp/ipykernel_14536/3324408537.py:65: SettingWithCopyWarning: \n",
      "A value is trying to be set on a copy of a slice from a DataFrame.\n",
      "Try using .loc[row_indexer,col_indexer] = value instead\n",
      "\n",
      "See the caveats in the documentation: https://pandas.pydata.org/pandas-docs/stable/user_guide/indexing.html#returning-a-view-versus-a-copy\n",
      "  df_concatenado_2[x] = (df_concatenado[x] - df_concatenado[x].min(axis=0)).divide(df_concatenado[x].max(axis=0) - df_concatenado[x].min(axis=0))\n",
      "C:\\Users\\rsolorza\\AppData\\Local\\Temp/ipykernel_14536/3324408537.py:65: SettingWithCopyWarning: \n",
      "A value is trying to be set on a copy of a slice from a DataFrame.\n",
      "Try using .loc[row_indexer,col_indexer] = value instead\n",
      "\n",
      "See the caveats in the documentation: https://pandas.pydata.org/pandas-docs/stable/user_guide/indexing.html#returning-a-view-versus-a-copy\n",
      "  df_concatenado_2[x] = (df_concatenado[x] - df_concatenado[x].min(axis=0)).divide(df_concatenado[x].max(axis=0) - df_concatenado[x].min(axis=0))\n",
      "C:\\Users\\rsolorza\\AppData\\Local\\Temp/ipykernel_14536/3324408537.py:65: SettingWithCopyWarning: \n",
      "A value is trying to be set on a copy of a slice from a DataFrame.\n",
      "Try using .loc[row_indexer,col_indexer] = value instead\n",
      "\n",
      "See the caveats in the documentation: https://pandas.pydata.org/pandas-docs/stable/user_guide/indexing.html#returning-a-view-versus-a-copy\n",
      "  df_concatenado_2[x] = (df_concatenado[x] - df_concatenado[x].min(axis=0)).divide(df_concatenado[x].max(axis=0) - df_concatenado[x].min(axis=0))\n",
      "C:\\Users\\rsolorza\\AppData\\Local\\Temp/ipykernel_14536/3324408537.py:65: SettingWithCopyWarning: \n",
      "A value is trying to be set on a copy of a slice from a DataFrame.\n",
      "Try using .loc[row_indexer,col_indexer] = value instead\n",
      "\n",
      "See the caveats in the documentation: https://pandas.pydata.org/pandas-docs/stable/user_guide/indexing.html#returning-a-view-versus-a-copy\n",
      "  df_concatenado_2[x] = (df_concatenado[x] - df_concatenado[x].min(axis=0)).divide(df_concatenado[x].max(axis=0) - df_concatenado[x].min(axis=0))\n",
      "C:\\Users\\rsolorza\\AppData\\Local\\Temp/ipykernel_14536/3324408537.py:65: SettingWithCopyWarning: \n",
      "A value is trying to be set on a copy of a slice from a DataFrame.\n",
      "Try using .loc[row_indexer,col_indexer] = value instead\n",
      "\n",
      "See the caveats in the documentation: https://pandas.pydata.org/pandas-docs/stable/user_guide/indexing.html#returning-a-view-versus-a-copy\n",
      "  df_concatenado_2[x] = (df_concatenado[x] - df_concatenado[x].min(axis=0)).divide(df_concatenado[x].max(axis=0) - df_concatenado[x].min(axis=0))\n",
      "C:\\Users\\rsolorza\\AppData\\Local\\Temp/ipykernel_14536/3324408537.py:65: SettingWithCopyWarning: \n",
      "A value is trying to be set on a copy of a slice from a DataFrame.\n",
      "Try using .loc[row_indexer,col_indexer] = value instead\n",
      "\n",
      "See the caveats in the documentation: https://pandas.pydata.org/pandas-docs/stable/user_guide/indexing.html#returning-a-view-versus-a-copy\n",
      "  df_concatenado_2[x] = (df_concatenado[x] - df_concatenado[x].min(axis=0)).divide(df_concatenado[x].max(axis=0) - df_concatenado[x].min(axis=0))\n"
     ]
    }
   ],
   "source": [
    "df_concatenado_2_ppa, matriz_ponderada_ppa = analisis_factorial(sin_outliers_ppa, outliers_ppa,columnas_eliminar)"
   ]
  },
  {
   "cell_type": "code",
   "execution_count": 83,
   "metadata": {},
   "outputs": [],
   "source": [
    "score_final_datos_ppa = generar_indicador(df_concatenado_2_ppa, matriz_ponderada_ppa, ddf, 0)"
   ]
  },
  {
   "cell_type": "markdown",
   "metadata": {},
   "source": [
    "## Ejecución de POS"
   ]
  },
  {
   "cell_type": "code",
   "execution_count": 84,
   "metadata": {},
   "outputs": [
    {
     "name": "stderr",
     "output_type": "stream",
     "text": [
      "C:\\ProgramData\\Anaconda3\\lib\\site-packages\\pandas\\core\\frame.py:8916: DeprecationWarning: scipy.isreal is deprecated and will be removed in SciPy 2.0.0, use numpy.isreal instead\n",
      "  return lib.map_infer(x.astype(object)._values, func, ignore_na=ignore_na)\n",
      "C:\\ProgramData\\Anaconda3\\lib\\site-packages\\factor_analyzer\\factor_analyzer.py:483: DeprecationWarning: scipy.diag is deprecated and will be removed in SciPy 2.0.0, use numpy.diag instead\n",
      "  smc = 1 - 1 / sp.diag(corr_inv)\n",
      "C:\\ProgramData\\Anaconda3\\lib\\site-packages\\factor_analyzer\\factor_analyzer.py:316: DeprecationWarning: scipy.dot is deprecated and will be removed in SciPy 2.0.0, use numpy.dot instead\n",
      "  model = sp.dot(loadings, loadings.T)\n",
      "C:\\ProgramData\\Anaconda3\\lib\\site-packages\\factor_analyzer\\factor_analyzer.py:324: DeprecationWarning: scipy.sum is deprecated and will be removed in SciPy 2.0.0, use numpy.sum instead\n",
      "  error = sp.sum(residual)\n",
      "C:\\ProgramData\\Anaconda3\\lib\\site-packages\\factor_analyzer\\factor_analyzer.py:389: DeprecationWarning: scipy.fill_diagonal is deprecated and will be removed in SciPy 2.0.0, use numpy.fill_diagonal instead\n",
      "  sp.fill_diagonal(corr_mtx, 1 - solution)\n",
      "C:\\ProgramData\\Anaconda3\\lib\\site-packages\\factor_analyzer\\factor_analyzer.py:400: DeprecationWarning: scipy.sqrt is deprecated and will be removed in SciPy 2.0.0, use numpy.lib.scimath.sqrt instead\n",
      "  loadings = sp.dot(vectors, sp.diag(sp.sqrt(np.maximum(values, 0))))\n",
      "C:\\ProgramData\\Anaconda3\\lib\\site-packages\\factor_analyzer\\factor_analyzer.py:400: DeprecationWarning: scipy.diag is deprecated and will be removed in SciPy 2.0.0, use numpy.diag instead\n",
      "  loadings = sp.dot(vectors, sp.diag(sp.sqrt(np.maximum(values, 0))))\n",
      "C:\\ProgramData\\Anaconda3\\lib\\site-packages\\pandas\\core\\frame.py:8916: DeprecationWarning: scipy.isreal is deprecated and will be removed in SciPy 2.0.0, use numpy.isreal instead\n",
      "  return lib.map_infer(x.astype(object)._values, func, ignore_na=ignore_na)\n",
      "C:\\ProgramData\\Anaconda3\\lib\\site-packages\\factor_analyzer\\factor_analyzer.py:483: DeprecationWarning: scipy.diag is deprecated and will be removed in SciPy 2.0.0, use numpy.diag instead\n",
      "  smc = 1 - 1 / sp.diag(corr_inv)\n",
      "C:\\ProgramData\\Anaconda3\\lib\\site-packages\\factor_analyzer\\factor_analyzer.py:316: DeprecationWarning: scipy.dot is deprecated and will be removed in SciPy 2.0.0, use numpy.dot instead\n",
      "  model = sp.dot(loadings, loadings.T)\n",
      "C:\\ProgramData\\Anaconda3\\lib\\site-packages\\factor_analyzer\\factor_analyzer.py:324: DeprecationWarning: scipy.sum is deprecated and will be removed in SciPy 2.0.0, use numpy.sum instead\n",
      "  error = sp.sum(residual)\n",
      "C:\\ProgramData\\Anaconda3\\lib\\site-packages\\factor_analyzer\\factor_analyzer.py:389: DeprecationWarning: scipy.fill_diagonal is deprecated and will be removed in SciPy 2.0.0, use numpy.fill_diagonal instead\n",
      "  sp.fill_diagonal(corr_mtx, 1 - solution)\n",
      "C:\\ProgramData\\Anaconda3\\lib\\site-packages\\factor_analyzer\\factor_analyzer.py:400: DeprecationWarning: scipy.sqrt is deprecated and will be removed in SciPy 2.0.0, use numpy.lib.scimath.sqrt instead\n",
      "  loadings = sp.dot(vectors, sp.diag(sp.sqrt(np.maximum(values, 0))))\n",
      "C:\\ProgramData\\Anaconda3\\lib\\site-packages\\factor_analyzer\\factor_analyzer.py:400: DeprecationWarning: scipy.diag is deprecated and will be removed in SciPy 2.0.0, use numpy.diag instead\n",
      "  loadings = sp.dot(vectors, sp.diag(sp.sqrt(np.maximum(values, 0))))\n"
     ]
    },
    {
     "name": "stdout",
     "output_type": "stream",
     "text": [
      "------Cuadrados de las cargas factoriales------\n",
      "                                  Factor1   Factor2   Factor3   Factor4\n",
      "DIAS_USO_VOZ_1_3                 0.098433  0.004589  0.787532  0.000097\n",
      "DIAS_USO_VOZ_DATOS_1_3           0.010823  0.056238  0.510714  0.000139\n",
      "TRAFICO_VOZ_1_3                  0.624650  0.022053  0.019893  0.052739\n",
      "TRAFICO_DATOS_1_3                0.002738  0.002150  0.149620  0.000897\n",
      "TRAFICO_SMS_1_3                  0.000003  0.000116  0.010613  0.000036\n",
      "CANT_CONTACTOS_LLAMADOS_1_3      0.229521  0.018302  0.264105  0.032348\n",
      "CANT_LLAMADAS_ENTRANTES_1_3      0.608970  0.078913  0.013624  0.194757\n",
      "CANT_LLAMADAS_SALIENTES_1_3      0.891944  0.004195  0.029842  0.000728\n",
      "ANTIGUEDAD_1_3                   0.001897  0.025245  0.002568  0.002054\n",
      "PROMEDIO_LLAMADAS_ENTRANTES_1_3  0.060255  0.597381  0.000003  0.106901\n",
      "PROMEDIO_LLAMADAS_SALIENTES_1_3  0.000218  0.713389  0.010036  0.006140\n",
      "Varianza por factor: [2.5294514424971304, 1.5225699706694882, 1.7985488729114212, 0.39683440879230547]\n",
      "Varianza total: 6.247404694870346\n",
      "Varianza por factor: [0.40488036 0.2437124  0.28788736 0.06351988]\n",
      "------Cargas factoriales normalizadas------\n",
      "                                  Factor1   Factor2   Factor3   Factor4\n",
      "DIAS_USO_VOZ_1_3                 0.038915  0.003014  0.437871  0.000244\n",
      "DIAS_USO_VOZ_DATOS_1_3           0.004279  0.036936  0.283959  0.000349\n",
      "TRAFICO_VOZ_1_3                  0.246951  0.014484  0.011061  0.132898\n",
      "TRAFICO_DATOS_1_3                0.001082  0.001412  0.083189  0.002260\n",
      "TRAFICO_SMS_1_3                  0.000001  0.000076  0.005901  0.000092\n",
      "CANT_CONTACTOS_LLAMADOS_1_3      0.090739  0.012020  0.146843  0.081514\n",
      "CANT_LLAMADAS_ENTRANTES_1_3      0.240752  0.051829  0.007575  0.490776\n",
      "CANT_LLAMADAS_SALIENTES_1_3      0.352624  0.002755  0.016592  0.001834\n",
      "ANTIGUEDAD_1_3                   0.000750  0.016580  0.001428  0.005176\n",
      "PROMEDIO_LLAMADAS_ENTRANTES_1_3  0.023821  0.392351  0.000002  0.269385\n",
      "PROMEDIO_LLAMADAS_SALIENTES_1_3  0.000086  0.468543  0.005580  0.015472\n",
      "------Identificación de pertenencia de cada variable a factor------\n",
      "DIAS_USO_VOZ_1_3                   Factor3\n",
      "DIAS_USO_VOZ_DATOS_1_3             Factor3\n",
      "TRAFICO_VOZ_1_3                    Factor1\n",
      "TRAFICO_DATOS_1_3                  Factor3\n",
      "TRAFICO_SMS_1_3                    Factor3\n",
      "CANT_CONTACTOS_LLAMADOS_1_3        Factor3\n",
      "CANT_LLAMADAS_ENTRANTES_1_3        Factor4\n",
      "CANT_LLAMADAS_SALIENTES_1_3        Factor1\n",
      "ANTIGUEDAD_1_3                     Factor2\n",
      "PROMEDIO_LLAMADAS_ENTRANTES_1_3    Factor2\n",
      "PROMEDIO_LLAMADAS_SALIENTES_1_3    Factor2\n",
      "dtype: object\n",
      "Longitud de arreglo 4\n"
     ]
    },
    {
     "name": "stderr",
     "output_type": "stream",
     "text": [
      "11it [00:00, ?it/s]"
     ]
    },
    {
     "name": "stdout",
     "output_type": "stream",
     "text": [
      "------Pesos de cada variable------\n",
      "[0.4378706330473652, 0.2839586693585108, 0.2469507226887532, 0.08318902150266823, 0.005900919628347813, 0.1468433368842006, 0.49077625169986805, 0.3526236605644597, 0.016580368917657094, 0.39235059376667936, 0.46854256463981314]\n"
     ]
    },
    {
     "name": "stderr",
     "output_type": "stream",
     "text": [
      "\n",
      "C:\\Users\\rsolorza\\AppData\\Local\\Temp/ipykernel_14536/3324408537.py:60: FutureWarning: The frame.append method is deprecated and will be removed from pandas in a future version. Use pandas.concat instead.\n",
      "  df_concatenado = sin_outliers.append(outliers)\n",
      "C:\\Users\\rsolorza\\AppData\\Local\\Temp/ipykernel_14536/3324408537.py:65: SettingWithCopyWarning: \n",
      "A value is trying to be set on a copy of a slice from a DataFrame.\n",
      "Try using .loc[row_indexer,col_indexer] = value instead\n",
      "\n",
      "See the caveats in the documentation: https://pandas.pydata.org/pandas-docs/stable/user_guide/indexing.html#returning-a-view-versus-a-copy\n",
      "  df_concatenado_2[x] = (df_concatenado[x] - df_concatenado[x].min(axis=0)).divide(df_concatenado[x].max(axis=0) - df_concatenado[x].min(axis=0))\n",
      "C:\\Users\\rsolorza\\AppData\\Local\\Temp/ipykernel_14536/3324408537.py:65: SettingWithCopyWarning: \n",
      "A value is trying to be set on a copy of a slice from a DataFrame.\n",
      "Try using .loc[row_indexer,col_indexer] = value instead\n",
      "\n",
      "See the caveats in the documentation: https://pandas.pydata.org/pandas-docs/stable/user_guide/indexing.html#returning-a-view-versus-a-copy\n",
      "  df_concatenado_2[x] = (df_concatenado[x] - df_concatenado[x].min(axis=0)).divide(df_concatenado[x].max(axis=0) - df_concatenado[x].min(axis=0))\n",
      "C:\\Users\\rsolorza\\AppData\\Local\\Temp/ipykernel_14536/3324408537.py:65: SettingWithCopyWarning: \n",
      "A value is trying to be set on a copy of a slice from a DataFrame.\n",
      "Try using .loc[row_indexer,col_indexer] = value instead\n",
      "\n",
      "See the caveats in the documentation: https://pandas.pydata.org/pandas-docs/stable/user_guide/indexing.html#returning-a-view-versus-a-copy\n",
      "  df_concatenado_2[x] = (df_concatenado[x] - df_concatenado[x].min(axis=0)).divide(df_concatenado[x].max(axis=0) - df_concatenado[x].min(axis=0))\n",
      "C:\\Users\\rsolorza\\AppData\\Local\\Temp/ipykernel_14536/3324408537.py:65: SettingWithCopyWarning: \n",
      "A value is trying to be set on a copy of a slice from a DataFrame.\n",
      "Try using .loc[row_indexer,col_indexer] = value instead\n",
      "\n",
      "See the caveats in the documentation: https://pandas.pydata.org/pandas-docs/stable/user_guide/indexing.html#returning-a-view-versus-a-copy\n",
      "  df_concatenado_2[x] = (df_concatenado[x] - df_concatenado[x].min(axis=0)).divide(df_concatenado[x].max(axis=0) - df_concatenado[x].min(axis=0))\n",
      "C:\\Users\\rsolorza\\AppData\\Local\\Temp/ipykernel_14536/3324408537.py:65: SettingWithCopyWarning: \n",
      "A value is trying to be set on a copy of a slice from a DataFrame.\n",
      "Try using .loc[row_indexer,col_indexer] = value instead\n",
      "\n",
      "See the caveats in the documentation: https://pandas.pydata.org/pandas-docs/stable/user_guide/indexing.html#returning-a-view-versus-a-copy\n",
      "  df_concatenado_2[x] = (df_concatenado[x] - df_concatenado[x].min(axis=0)).divide(df_concatenado[x].max(axis=0) - df_concatenado[x].min(axis=0))\n",
      "C:\\Users\\rsolorza\\AppData\\Local\\Temp/ipykernel_14536/3324408537.py:65: SettingWithCopyWarning: \n",
      "A value is trying to be set on a copy of a slice from a DataFrame.\n",
      "Try using .loc[row_indexer,col_indexer] = value instead\n",
      "\n",
      "See the caveats in the documentation: https://pandas.pydata.org/pandas-docs/stable/user_guide/indexing.html#returning-a-view-versus-a-copy\n",
      "  df_concatenado_2[x] = (df_concatenado[x] - df_concatenado[x].min(axis=0)).divide(df_concatenado[x].max(axis=0) - df_concatenado[x].min(axis=0))\n",
      "C:\\Users\\rsolorza\\AppData\\Local\\Temp/ipykernel_14536/3324408537.py:65: SettingWithCopyWarning: \n",
      "A value is trying to be set on a copy of a slice from a DataFrame.\n",
      "Try using .loc[row_indexer,col_indexer] = value instead\n",
      "\n",
      "See the caveats in the documentation: https://pandas.pydata.org/pandas-docs/stable/user_guide/indexing.html#returning-a-view-versus-a-copy\n",
      "  df_concatenado_2[x] = (df_concatenado[x] - df_concatenado[x].min(axis=0)).divide(df_concatenado[x].max(axis=0) - df_concatenado[x].min(axis=0))\n",
      "C:\\Users\\rsolorza\\AppData\\Local\\Temp/ipykernel_14536/3324408537.py:65: SettingWithCopyWarning: \n",
      "A value is trying to be set on a copy of a slice from a DataFrame.\n",
      "Try using .loc[row_indexer,col_indexer] = value instead\n",
      "\n",
      "See the caveats in the documentation: https://pandas.pydata.org/pandas-docs/stable/user_guide/indexing.html#returning-a-view-versus-a-copy\n",
      "  df_concatenado_2[x] = (df_concatenado[x] - df_concatenado[x].min(axis=0)).divide(df_concatenado[x].max(axis=0) - df_concatenado[x].min(axis=0))\n",
      "C:\\Users\\rsolorza\\AppData\\Local\\Temp/ipykernel_14536/3324408537.py:65: SettingWithCopyWarning: \n",
      "A value is trying to be set on a copy of a slice from a DataFrame.\n",
      "Try using .loc[row_indexer,col_indexer] = value instead\n",
      "\n",
      "See the caveats in the documentation: https://pandas.pydata.org/pandas-docs/stable/user_guide/indexing.html#returning-a-view-versus-a-copy\n",
      "  df_concatenado_2[x] = (df_concatenado[x] - df_concatenado[x].min(axis=0)).divide(df_concatenado[x].max(axis=0) - df_concatenado[x].min(axis=0))\n",
      "C:\\Users\\rsolorza\\AppData\\Local\\Temp/ipykernel_14536/3324408537.py:65: SettingWithCopyWarning: \n",
      "A value is trying to be set on a copy of a slice from a DataFrame.\n",
      "Try using .loc[row_indexer,col_indexer] = value instead\n",
      "\n",
      "See the caveats in the documentation: https://pandas.pydata.org/pandas-docs/stable/user_guide/indexing.html#returning-a-view-versus-a-copy\n",
      "  df_concatenado_2[x] = (df_concatenado[x] - df_concatenado[x].min(axis=0)).divide(df_concatenado[x].max(axis=0) - df_concatenado[x].min(axis=0))\n"
     ]
    }
   ],
   "source": [
    "df_concatenado_2_pos, matriz_ponderada_pos = analisis_factorial(sin_outliers_pos, outliers_pos, columnas_eliminar)"
   ]
  },
  {
   "cell_type": "code",
   "execution_count": 85,
   "metadata": {},
   "outputs": [],
   "source": [
    "score_final_datos_pos = generar_indicador(df_concatenado_2_pos, matriz_ponderada_pos, ddf, 1)"
   ]
  },
  {
   "cell_type": "markdown",
   "metadata": {},
   "source": [
    "## Union entre ppa y postpago"
   ]
  },
  {
   "cell_type": "code",
   "execution_count": 86,
   "metadata": {},
   "outputs": [],
   "source": [
    "score_final_datos = pd.concat([score_final_datos_ppa,score_final_datos_pos])"
   ]
  },
  {
   "cell_type": "code",
   "execution_count": 87,
   "metadata": {},
   "outputs": [],
   "source": [
    "nombre_grupo = 'Score multivariable'"
   ]
  },
  {
   "cell_type": "code",
   "execution_count": 88,
   "metadata": {},
   "outputs": [
    {
     "name": "stderr",
     "output_type": "stream",
     "text": [
      "<>:1: DeprecationWarning: invalid escape sequence \\d\n"
     ]
    }
   ],
   "source": [
    "score_final_datos.to_csv('./data/Actividad Celular '+nombre_grupo+' 3M.csv',sep='|',decimal=',')"
   ]
  },
  {
   "cell_type": "markdown",
   "metadata": {},
   "source": [
    "# Actividad Celular - Factor 1"
   ]
  },
  {
   "cell_type": "code",
   "execution_count": 11,
   "metadata": {},
   "outputs": [],
   "source": [
    "## Se definen variables que se utilizaran en las ejecuciones de PPA y POS\n",
    "columnas_eliminar = ['SUBSCRIBER_ID','ID_SUBPRODUCTO_1_3','DIAS_RECENCIA_1_3',\n",
    "                    'DIAS_USO_VOZ_DATOS_1_3', 'TRAFICO_DATOS_1_3', 'TRAFICO_SMS_1_3']\n",
    "\n",
    "nombre_factor = 'Factor 1'"
   ]
  },
  {
   "cell_type": "markdown",
   "metadata": {},
   "source": [
    "## Ejecución de PPA"
   ]
  },
  {
   "cell_type": "code",
   "execution_count": 12,
   "metadata": {},
   "outputs": [
    {
     "name": "stderr",
     "output_type": "stream",
     "text": [
      "C:\\ProgramData\\Anaconda3\\lib\\site-packages\\pandas\\core\\frame.py:8916: DeprecationWarning: scipy.isreal is deprecated and will be removed in SciPy 2.0.0, use numpy.isreal instead\n",
      "  return lib.map_infer(x.astype(object)._values, func, ignore_na=ignore_na)\n",
      "C:\\ProgramData\\Anaconda3\\lib\\site-packages\\factor_analyzer\\factor_analyzer.py:483: DeprecationWarning: scipy.diag is deprecated and will be removed in SciPy 2.0.0, use numpy.diag instead\n",
      "  smc = 1 - 1 / sp.diag(corr_inv)\n",
      "C:\\ProgramData\\Anaconda3\\lib\\site-packages\\factor_analyzer\\factor_analyzer.py:316: DeprecationWarning: scipy.dot is deprecated and will be removed in SciPy 2.0.0, use numpy.dot instead\n",
      "  model = sp.dot(loadings, loadings.T)\n",
      "C:\\ProgramData\\Anaconda3\\lib\\site-packages\\factor_analyzer\\factor_analyzer.py:324: DeprecationWarning: scipy.sum is deprecated and will be removed in SciPy 2.0.0, use numpy.sum instead\n",
      "  error = sp.sum(residual)\n",
      "C:\\ProgramData\\Anaconda3\\lib\\site-packages\\factor_analyzer\\factor_analyzer.py:389: DeprecationWarning: scipy.fill_diagonal is deprecated and will be removed in SciPy 2.0.0, use numpy.fill_diagonal instead\n",
      "  sp.fill_diagonal(corr_mtx, 1 - solution)\n",
      "C:\\ProgramData\\Anaconda3\\lib\\site-packages\\factor_analyzer\\factor_analyzer.py:400: DeprecationWarning: scipy.sqrt is deprecated and will be removed in SciPy 2.0.0, use numpy.lib.scimath.sqrt instead\n",
      "  loadings = sp.dot(vectors, sp.diag(sp.sqrt(np.maximum(values, 0))))\n",
      "C:\\ProgramData\\Anaconda3\\lib\\site-packages\\factor_analyzer\\factor_analyzer.py:400: DeprecationWarning: scipy.diag is deprecated and will be removed in SciPy 2.0.0, use numpy.diag instead\n",
      "  loadings = sp.dot(vectors, sp.diag(sp.sqrt(np.maximum(values, 0))))\n",
      "C:\\ProgramData\\Anaconda3\\lib\\site-packages\\pandas\\core\\frame.py:8916: DeprecationWarning: scipy.isreal is deprecated and will be removed in SciPy 2.0.0, use numpy.isreal instead\n",
      "  return lib.map_infer(x.astype(object)._values, func, ignore_na=ignore_na)\n",
      "C:\\ProgramData\\Anaconda3\\lib\\site-packages\\factor_analyzer\\factor_analyzer.py:483: DeprecationWarning: scipy.diag is deprecated and will be removed in SciPy 2.0.0, use numpy.diag instead\n",
      "  smc = 1 - 1 / sp.diag(corr_inv)\n",
      "C:\\ProgramData\\Anaconda3\\lib\\site-packages\\factor_analyzer\\factor_analyzer.py:316: DeprecationWarning: scipy.dot is deprecated and will be removed in SciPy 2.0.0, use numpy.dot instead\n",
      "  model = sp.dot(loadings, loadings.T)\n",
      "C:\\ProgramData\\Anaconda3\\lib\\site-packages\\factor_analyzer\\factor_analyzer.py:324: DeprecationWarning: scipy.sum is deprecated and will be removed in SciPy 2.0.0, use numpy.sum instead\n",
      "  error = sp.sum(residual)\n",
      "C:\\ProgramData\\Anaconda3\\lib\\site-packages\\factor_analyzer\\factor_analyzer.py:389: DeprecationWarning: scipy.fill_diagonal is deprecated and will be removed in SciPy 2.0.0, use numpy.fill_diagonal instead\n",
      "  sp.fill_diagonal(corr_mtx, 1 - solution)\n",
      "C:\\ProgramData\\Anaconda3\\lib\\site-packages\\factor_analyzer\\factor_analyzer.py:400: DeprecationWarning: scipy.sqrt is deprecated and will be removed in SciPy 2.0.0, use numpy.lib.scimath.sqrt instead\n",
      "  loadings = sp.dot(vectors, sp.diag(sp.sqrt(np.maximum(values, 0))))\n",
      "C:\\ProgramData\\Anaconda3\\lib\\site-packages\\factor_analyzer\\factor_analyzer.py:400: DeprecationWarning: scipy.diag is deprecated and will be removed in SciPy 2.0.0, use numpy.diag instead\n",
      "  loadings = sp.dot(vectors, sp.diag(sp.sqrt(np.maximum(values, 0))))\n"
     ]
    },
    {
     "name": "stdout",
     "output_type": "stream",
     "text": [
      "------Cuadrados de las cargas factoriales------\n",
      "                                  Factor1   Factor2\n",
      "DIAS_USO_VOZ_1_3                 0.844837  0.005855\n",
      "TRAFICO_VOZ_1_3                  0.526631  0.000064\n",
      "CANT_CONTACTOS_LLAMADOS_1_3      0.468072  0.068820\n",
      "CANT_LLAMADAS_ENTRANTES_1_3      0.104281  0.383869\n",
      "CANT_LLAMADAS_SALIENTES_1_3      0.946289  0.000004\n",
      "ANTIGUEDAD_1_3                   0.000799  0.065464\n",
      "PROMEDIO_LLAMADAS_ENTRANTES_1_3  0.000574  0.122626\n",
      "PROMEDIO_LLAMADAS_SALIENTES_1_3  0.003919  0.223870\n",
      "Varianza por factor: [2.8954020623919474, 0.870571959346485]\n",
      "Varianza total: 3.7659740217384323\n",
      "Varianza por factor: [0.76883219 0.23116781]\n",
      "------Cargas factoriales normalizadas------\n",
      "                                  Factor1   Factor2\n",
      "DIAS_USO_VOZ_1_3                 0.291786  0.006725\n",
      "TRAFICO_VOZ_1_3                  0.181885  0.000073\n",
      "CANT_CONTACTOS_LLAMADOS_1_3      0.161660  0.079052\n",
      "CANT_LLAMADAS_ENTRANTES_1_3      0.036016  0.440938\n",
      "CANT_LLAMADAS_SALIENTES_1_3      0.326825  0.000005\n",
      "ANTIGUEDAD_1_3                   0.000276  0.075196\n",
      "PROMEDIO_LLAMADAS_ENTRANTES_1_3  0.000198  0.140857\n",
      "PROMEDIO_LLAMADAS_SALIENTES_1_3  0.001353  0.257153\n",
      "------Identificación de pertenencia de cada variable a factor------\n",
      "DIAS_USO_VOZ_1_3                   Factor1\n",
      "TRAFICO_VOZ_1_3                    Factor1\n",
      "CANT_CONTACTOS_LLAMADOS_1_3        Factor1\n",
      "CANT_LLAMADAS_ENTRANTES_1_3        Factor2\n",
      "CANT_LLAMADAS_SALIENTES_1_3        Factor1\n",
      "ANTIGUEDAD_1_3                     Factor2\n",
      "PROMEDIO_LLAMADAS_ENTRANTES_1_3    Factor2\n",
      "PROMEDIO_LLAMADAS_SALIENTES_1_3    Factor2\n",
      "dtype: object\n",
      "Longitud de arreglo 2\n"
     ]
    },
    {
     "name": "stderr",
     "output_type": "stream",
     "text": [
      "8it [00:00, ?it/s]"
     ]
    },
    {
     "name": "stdout",
     "output_type": "stream",
     "text": [
      "------Pesos de cada variable------\n",
      "[0.29178563962871773, 0.18188524332501352, 0.16166045397535078, 0.440938397049005, 0.3268248118667697, 0.0751964556545634, 0.14085656491585805, 0.25715304272592204]\n"
     ]
    },
    {
     "name": "stderr",
     "output_type": "stream",
     "text": [
      "\n",
      "C:\\Users\\rsolorza\\AppData\\Local\\Temp/ipykernel_23476/3324408537.py:60: FutureWarning: The frame.append method is deprecated and will be removed from pandas in a future version. Use pandas.concat instead.\n",
      "  df_concatenado = sin_outliers.append(outliers)\n",
      "C:\\Users\\rsolorza\\AppData\\Local\\Temp/ipykernel_23476/3324408537.py:65: SettingWithCopyWarning: \n",
      "A value is trying to be set on a copy of a slice from a DataFrame.\n",
      "Try using .loc[row_indexer,col_indexer] = value instead\n",
      "\n",
      "See the caveats in the documentation: https://pandas.pydata.org/pandas-docs/stable/user_guide/indexing.html#returning-a-view-versus-a-copy\n",
      "  df_concatenado_2[x] = (df_concatenado[x] - df_concatenado[x].min(axis=0)).divide(df_concatenado[x].max(axis=0) - df_concatenado[x].min(axis=0))\n",
      "C:\\Users\\rsolorza\\AppData\\Local\\Temp/ipykernel_23476/3324408537.py:65: SettingWithCopyWarning: \n",
      "A value is trying to be set on a copy of a slice from a DataFrame.\n",
      "Try using .loc[row_indexer,col_indexer] = value instead\n",
      "\n",
      "See the caveats in the documentation: https://pandas.pydata.org/pandas-docs/stable/user_guide/indexing.html#returning-a-view-versus-a-copy\n",
      "  df_concatenado_2[x] = (df_concatenado[x] - df_concatenado[x].min(axis=0)).divide(df_concatenado[x].max(axis=0) - df_concatenado[x].min(axis=0))\n",
      "C:\\Users\\rsolorza\\AppData\\Local\\Temp/ipykernel_23476/3324408537.py:65: SettingWithCopyWarning: \n",
      "A value is trying to be set on a copy of a slice from a DataFrame.\n",
      "Try using .loc[row_indexer,col_indexer] = value instead\n",
      "\n",
      "See the caveats in the documentation: https://pandas.pydata.org/pandas-docs/stable/user_guide/indexing.html#returning-a-view-versus-a-copy\n",
      "  df_concatenado_2[x] = (df_concatenado[x] - df_concatenado[x].min(axis=0)).divide(df_concatenado[x].max(axis=0) - df_concatenado[x].min(axis=0))\n",
      "C:\\Users\\rsolorza\\AppData\\Local\\Temp/ipykernel_23476/3324408537.py:65: SettingWithCopyWarning: \n",
      "A value is trying to be set on a copy of a slice from a DataFrame.\n",
      "Try using .loc[row_indexer,col_indexer] = value instead\n",
      "\n",
      "See the caveats in the documentation: https://pandas.pydata.org/pandas-docs/stable/user_guide/indexing.html#returning-a-view-versus-a-copy\n",
      "  df_concatenado_2[x] = (df_concatenado[x] - df_concatenado[x].min(axis=0)).divide(df_concatenado[x].max(axis=0) - df_concatenado[x].min(axis=0))\n",
      "C:\\Users\\rsolorza\\AppData\\Local\\Temp/ipykernel_23476/3324408537.py:65: SettingWithCopyWarning: \n",
      "A value is trying to be set on a copy of a slice from a DataFrame.\n",
      "Try using .loc[row_indexer,col_indexer] = value instead\n",
      "\n",
      "See the caveats in the documentation: https://pandas.pydata.org/pandas-docs/stable/user_guide/indexing.html#returning-a-view-versus-a-copy\n",
      "  df_concatenado_2[x] = (df_concatenado[x] - df_concatenado[x].min(axis=0)).divide(df_concatenado[x].max(axis=0) - df_concatenado[x].min(axis=0))\n",
      "C:\\Users\\rsolorza\\AppData\\Local\\Temp/ipykernel_23476/3324408537.py:65: SettingWithCopyWarning: \n",
      "A value is trying to be set on a copy of a slice from a DataFrame.\n",
      "Try using .loc[row_indexer,col_indexer] = value instead\n",
      "\n",
      "See the caveats in the documentation: https://pandas.pydata.org/pandas-docs/stable/user_guide/indexing.html#returning-a-view-versus-a-copy\n",
      "  df_concatenado_2[x] = (df_concatenado[x] - df_concatenado[x].min(axis=0)).divide(df_concatenado[x].max(axis=0) - df_concatenado[x].min(axis=0))\n",
      "C:\\Users\\rsolorza\\AppData\\Local\\Temp/ipykernel_23476/3324408537.py:65: SettingWithCopyWarning: \n",
      "A value is trying to be set on a copy of a slice from a DataFrame.\n",
      "Try using .loc[row_indexer,col_indexer] = value instead\n",
      "\n",
      "See the caveats in the documentation: https://pandas.pydata.org/pandas-docs/stable/user_guide/indexing.html#returning-a-view-versus-a-copy\n",
      "  df_concatenado_2[x] = (df_concatenado[x] - df_concatenado[x].min(axis=0)).divide(df_concatenado[x].max(axis=0) - df_concatenado[x].min(axis=0))\n"
     ]
    }
   ],
   "source": [
    "df_concatenado_2_ppa, matriz_ponderada_ppa = analisis_factorial(sin_outliers_ppa, outliers_ppa,columnas_eliminar)"
   ]
  },
  {
   "cell_type": "code",
   "execution_count": 13,
   "metadata": {},
   "outputs": [],
   "source": [
    "score_final_datos_ppa = generar_indicador(df_concatenado_2_ppa, matriz_ponderada_ppa, ddf, 0)"
   ]
  },
  {
   "cell_type": "markdown",
   "metadata": {},
   "source": [
    "## Ejecución de POS"
   ]
  },
  {
   "cell_type": "code",
   "execution_count": 14,
   "metadata": {},
   "outputs": [
    {
     "name": "stderr",
     "output_type": "stream",
     "text": [
      "C:\\ProgramData\\Anaconda3\\lib\\site-packages\\pandas\\core\\frame.py:8916: DeprecationWarning: scipy.isreal is deprecated and will be removed in SciPy 2.0.0, use numpy.isreal instead\n",
      "  return lib.map_infer(x.astype(object)._values, func, ignore_na=ignore_na)\n",
      "C:\\ProgramData\\Anaconda3\\lib\\site-packages\\factor_analyzer\\factor_analyzer.py:483: DeprecationWarning: scipy.diag is deprecated and will be removed in SciPy 2.0.0, use numpy.diag instead\n",
      "  smc = 1 - 1 / sp.diag(corr_inv)\n",
      "C:\\ProgramData\\Anaconda3\\lib\\site-packages\\factor_analyzer\\factor_analyzer.py:316: DeprecationWarning: scipy.dot is deprecated and will be removed in SciPy 2.0.0, use numpy.dot instead\n",
      "  model = sp.dot(loadings, loadings.T)\n",
      "C:\\ProgramData\\Anaconda3\\lib\\site-packages\\factor_analyzer\\factor_analyzer.py:324: DeprecationWarning: scipy.sum is deprecated and will be removed in SciPy 2.0.0, use numpy.sum instead\n",
      "  error = sp.sum(residual)\n",
      "C:\\ProgramData\\Anaconda3\\lib\\site-packages\\factor_analyzer\\factor_analyzer.py:389: DeprecationWarning: scipy.fill_diagonal is deprecated and will be removed in SciPy 2.0.0, use numpy.fill_diagonal instead\n",
      "  sp.fill_diagonal(corr_mtx, 1 - solution)\n",
      "C:\\ProgramData\\Anaconda3\\lib\\site-packages\\factor_analyzer\\factor_analyzer.py:400: DeprecationWarning: scipy.sqrt is deprecated and will be removed in SciPy 2.0.0, use numpy.lib.scimath.sqrt instead\n",
      "  loadings = sp.dot(vectors, sp.diag(sp.sqrt(np.maximum(values, 0))))\n",
      "C:\\ProgramData\\Anaconda3\\lib\\site-packages\\factor_analyzer\\factor_analyzer.py:400: DeprecationWarning: scipy.diag is deprecated and will be removed in SciPy 2.0.0, use numpy.diag instead\n",
      "  loadings = sp.dot(vectors, sp.diag(sp.sqrt(np.maximum(values, 0))))\n",
      "C:\\ProgramData\\Anaconda3\\lib\\site-packages\\pandas\\core\\frame.py:8916: DeprecationWarning: scipy.isreal is deprecated and will be removed in SciPy 2.0.0, use numpy.isreal instead\n",
      "  return lib.map_infer(x.astype(object)._values, func, ignore_na=ignore_na)\n",
      "C:\\ProgramData\\Anaconda3\\lib\\site-packages\\factor_analyzer\\factor_analyzer.py:483: DeprecationWarning: scipy.diag is deprecated and will be removed in SciPy 2.0.0, use numpy.diag instead\n",
      "  smc = 1 - 1 / sp.diag(corr_inv)\n",
      "C:\\ProgramData\\Anaconda3\\lib\\site-packages\\factor_analyzer\\factor_analyzer.py:316: DeprecationWarning: scipy.dot is deprecated and will be removed in SciPy 2.0.0, use numpy.dot instead\n",
      "  model = sp.dot(loadings, loadings.T)\n",
      "C:\\ProgramData\\Anaconda3\\lib\\site-packages\\factor_analyzer\\factor_analyzer.py:324: DeprecationWarning: scipy.sum is deprecated and will be removed in SciPy 2.0.0, use numpy.sum instead\n",
      "  error = sp.sum(residual)\n",
      "C:\\ProgramData\\Anaconda3\\lib\\site-packages\\factor_analyzer\\factor_analyzer.py:389: DeprecationWarning: scipy.fill_diagonal is deprecated and will be removed in SciPy 2.0.0, use numpy.fill_diagonal instead\n",
      "  sp.fill_diagonal(corr_mtx, 1 - solution)\n",
      "C:\\ProgramData\\Anaconda3\\lib\\site-packages\\factor_analyzer\\factor_analyzer.py:400: DeprecationWarning: scipy.sqrt is deprecated and will be removed in SciPy 2.0.0, use numpy.lib.scimath.sqrt instead\n",
      "  loadings = sp.dot(vectors, sp.diag(sp.sqrt(np.maximum(values, 0))))\n",
      "C:\\ProgramData\\Anaconda3\\lib\\site-packages\\factor_analyzer\\factor_analyzer.py:400: DeprecationWarning: scipy.diag is deprecated and will be removed in SciPy 2.0.0, use numpy.diag instead\n",
      "  loadings = sp.dot(vectors, sp.diag(sp.sqrt(np.maximum(values, 0))))\n"
     ]
    },
    {
     "name": "stdout",
     "output_type": "stream",
     "text": [
      "------Cuadrados de las cargas factoriales------\n",
      "                                  Factor1   Factor2\n",
      "DIAS_USO_VOZ_1_3                 0.348055  0.000017\n",
      "TRAFICO_VOZ_1_3                  0.512633  0.051211\n",
      "CANT_CONTACTOS_LLAMADOS_1_3      0.470875  0.010063\n",
      "CANT_LLAMADAS_ENTRANTES_1_3      0.545675  0.088047\n",
      "CANT_LLAMADAS_SALIENTES_1_3      0.829929  0.023361\n",
      "ANTIGUEDAD_1_3                   0.005644  0.016520\n",
      "PROMEDIO_LLAMADAS_ENTRANTES_1_3  0.037271  0.425636\n",
      "PROMEDIO_LLAMADAS_SALIENTES_1_3  0.006875  0.984950\n",
      "Varianza por factor: [2.7569565371242413, 1.59980552037619]\n",
      "Varianza total: 4.356762057500431\n",
      "Varianza por factor: [0.63279943 0.36720057]\n",
      "------Cargas factoriales normalizadas------\n",
      "                                  Factor1   Factor2\n",
      "DIAS_USO_VOZ_1_3                 0.126246  0.000010\n",
      "TRAFICO_VOZ_1_3                  0.185941  0.032011\n",
      "CANT_CONTACTOS_LLAMADOS_1_3      0.170795  0.006290\n",
      "CANT_LLAMADAS_ENTRANTES_1_3      0.197927  0.055036\n",
      "CANT_LLAMADAS_SALIENTES_1_3      0.301031  0.014603\n",
      "ANTIGUEDAD_1_3                   0.002047  0.010326\n",
      "PROMEDIO_LLAMADAS_ENTRANTES_1_3  0.013519  0.266055\n",
      "PROMEDIO_LLAMADAS_SALIENTES_1_3  0.002494  0.615669\n",
      "------Identificación de pertenencia de cada variable a factor------\n",
      "DIAS_USO_VOZ_1_3                   Factor1\n",
      "TRAFICO_VOZ_1_3                    Factor1\n",
      "CANT_CONTACTOS_LLAMADOS_1_3        Factor1\n",
      "CANT_LLAMADAS_ENTRANTES_1_3        Factor1\n",
      "CANT_LLAMADAS_SALIENTES_1_3        Factor1\n",
      "ANTIGUEDAD_1_3                     Factor2\n",
      "PROMEDIO_LLAMADAS_ENTRANTES_1_3    Factor2\n",
      "PROMEDIO_LLAMADAS_SALIENTES_1_3    Factor2\n",
      "dtype: object\n",
      "Longitud de arreglo 2\n"
     ]
    },
    {
     "name": "stderr",
     "output_type": "stream",
     "text": [
      "8it [00:00, 8025.46it/s]"
     ]
    },
    {
     "name": "stdout",
     "output_type": "stream",
     "text": [
      "------Pesos de cada variable------\n",
      "[0.1262460843597112, 0.1859414828522037, 0.1707950711038244, 0.19792663407023042, 0.301031026868394, 0.0103263661732792, 0.2660550523759951, 0.6156687019257366]\n"
     ]
    },
    {
     "name": "stderr",
     "output_type": "stream",
     "text": [
      "\n",
      "C:\\Users\\rsolorza\\AppData\\Local\\Temp/ipykernel_23476/3324408537.py:60: FutureWarning: The frame.append method is deprecated and will be removed from pandas in a future version. Use pandas.concat instead.\n",
      "  df_concatenado = sin_outliers.append(outliers)\n",
      "C:\\Users\\rsolorza\\AppData\\Local\\Temp/ipykernel_23476/3324408537.py:65: SettingWithCopyWarning: \n",
      "A value is trying to be set on a copy of a slice from a DataFrame.\n",
      "Try using .loc[row_indexer,col_indexer] = value instead\n",
      "\n",
      "See the caveats in the documentation: https://pandas.pydata.org/pandas-docs/stable/user_guide/indexing.html#returning-a-view-versus-a-copy\n",
      "  df_concatenado_2[x] = (df_concatenado[x] - df_concatenado[x].min(axis=0)).divide(df_concatenado[x].max(axis=0) - df_concatenado[x].min(axis=0))\n",
      "C:\\Users\\rsolorza\\AppData\\Local\\Temp/ipykernel_23476/3324408537.py:65: SettingWithCopyWarning: \n",
      "A value is trying to be set on a copy of a slice from a DataFrame.\n",
      "Try using .loc[row_indexer,col_indexer] = value instead\n",
      "\n",
      "See the caveats in the documentation: https://pandas.pydata.org/pandas-docs/stable/user_guide/indexing.html#returning-a-view-versus-a-copy\n",
      "  df_concatenado_2[x] = (df_concatenado[x] - df_concatenado[x].min(axis=0)).divide(df_concatenado[x].max(axis=0) - df_concatenado[x].min(axis=0))\n",
      "C:\\Users\\rsolorza\\AppData\\Local\\Temp/ipykernel_23476/3324408537.py:65: SettingWithCopyWarning: \n",
      "A value is trying to be set on a copy of a slice from a DataFrame.\n",
      "Try using .loc[row_indexer,col_indexer] = value instead\n",
      "\n",
      "See the caveats in the documentation: https://pandas.pydata.org/pandas-docs/stable/user_guide/indexing.html#returning-a-view-versus-a-copy\n",
      "  df_concatenado_2[x] = (df_concatenado[x] - df_concatenado[x].min(axis=0)).divide(df_concatenado[x].max(axis=0) - df_concatenado[x].min(axis=0))\n",
      "C:\\Users\\rsolorza\\AppData\\Local\\Temp/ipykernel_23476/3324408537.py:65: SettingWithCopyWarning: \n",
      "A value is trying to be set on a copy of a slice from a DataFrame.\n",
      "Try using .loc[row_indexer,col_indexer] = value instead\n",
      "\n",
      "See the caveats in the documentation: https://pandas.pydata.org/pandas-docs/stable/user_guide/indexing.html#returning-a-view-versus-a-copy\n",
      "  df_concatenado_2[x] = (df_concatenado[x] - df_concatenado[x].min(axis=0)).divide(df_concatenado[x].max(axis=0) - df_concatenado[x].min(axis=0))\n",
      "C:\\Users\\rsolorza\\AppData\\Local\\Temp/ipykernel_23476/3324408537.py:65: SettingWithCopyWarning: \n",
      "A value is trying to be set on a copy of a slice from a DataFrame.\n",
      "Try using .loc[row_indexer,col_indexer] = value instead\n",
      "\n",
      "See the caveats in the documentation: https://pandas.pydata.org/pandas-docs/stable/user_guide/indexing.html#returning-a-view-versus-a-copy\n",
      "  df_concatenado_2[x] = (df_concatenado[x] - df_concatenado[x].min(axis=0)).divide(df_concatenado[x].max(axis=0) - df_concatenado[x].min(axis=0))\n",
      "C:\\Users\\rsolorza\\AppData\\Local\\Temp/ipykernel_23476/3324408537.py:65: SettingWithCopyWarning: \n",
      "A value is trying to be set on a copy of a slice from a DataFrame.\n",
      "Try using .loc[row_indexer,col_indexer] = value instead\n",
      "\n",
      "See the caveats in the documentation: https://pandas.pydata.org/pandas-docs/stable/user_guide/indexing.html#returning-a-view-versus-a-copy\n",
      "  df_concatenado_2[x] = (df_concatenado[x] - df_concatenado[x].min(axis=0)).divide(df_concatenado[x].max(axis=0) - df_concatenado[x].min(axis=0))\n",
      "C:\\Users\\rsolorza\\AppData\\Local\\Temp/ipykernel_23476/3324408537.py:65: SettingWithCopyWarning: \n",
      "A value is trying to be set on a copy of a slice from a DataFrame.\n",
      "Try using .loc[row_indexer,col_indexer] = value instead\n",
      "\n",
      "See the caveats in the documentation: https://pandas.pydata.org/pandas-docs/stable/user_guide/indexing.html#returning-a-view-versus-a-copy\n",
      "  df_concatenado_2[x] = (df_concatenado[x] - df_concatenado[x].min(axis=0)).divide(df_concatenado[x].max(axis=0) - df_concatenado[x].min(axis=0))\n"
     ]
    }
   ],
   "source": [
    "df_concatenado_2_pos, matriz_ponderada_pos = analisis_factorial(sin_outliers_pos, outliers_pos, columnas_eliminar)"
   ]
  },
  {
   "cell_type": "code",
   "execution_count": 15,
   "metadata": {},
   "outputs": [],
   "source": [
    "score_final_datos_pos = generar_indicador(df_concatenado_2_pos, matriz_ponderada_pos, ddf, 1)"
   ]
  },
  {
   "cell_type": "markdown",
   "metadata": {},
   "source": [
    "## Union entre ppa y postpago"
   ]
  },
  {
   "cell_type": "code",
   "execution_count": 16,
   "metadata": {},
   "outputs": [],
   "source": [
    "score_final_datos = pd.concat([score_final_datos_ppa,score_final_datos_pos])"
   ]
  },
  {
   "cell_type": "code",
   "execution_count": 17,
   "metadata": {},
   "outputs": [],
   "source": [
    "score_final_datos.to_csv('./data/Actividad Celular '+nombre_factor+' 3M.csv',sep='|',decimal=',')"
   ]
  },
  {
   "cell_type": "code",
   "execution_count": null,
   "metadata": {},
   "outputs": [],
   "source": [
    "# "
   ]
  }
 ],
 "metadata": {
  "interpreter": {
   "hash": "b3ba2566441a7c06988d0923437866b63cedc61552a5af99d1f4fb67d367b25f"
  },
  "kernelspec": {
   "display_name": "Python 3.9.7 ('base')",
   "language": "python",
   "name": "python3"
  },
  "language_info": {
   "codemirror_mode": {
    "name": "ipython",
    "version": 3
   },
   "file_extension": ".py",
   "mimetype": "text/x-python",
   "name": "python",
   "nbconvert_exporter": "python",
   "pygments_lexer": "ipython3",
   "version": "3.9.7"
  },
  "orig_nbformat": 4
 },
 "nbformat": 4,
 "nbformat_minor": 2
}
